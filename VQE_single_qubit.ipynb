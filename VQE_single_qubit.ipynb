{
 "cells": [
  {
   "source": [
    "# Variational Quantum Eigensolver for 1-qubit system  \n",
    "\n",
    "This is an attempt at finding the lowest eigenvalue for a 2 x 2 matrix using VQE"
   ],
   "cell_type": "markdown",
   "metadata": {
    "tags": []
   }
  },
  {
   "cell_type": "code",
   "execution_count": 1,
   "metadata": {},
   "outputs": [],
   "source": [
    "from qiskit import *\n",
    "import numpy as np\n",
    "from scipy import optimize"
   ]
  },
  {
   "cell_type": "code",
   "execution_count": 2,
   "metadata": {
    "tags": []
   },
   "outputs": [
    {
     "output_type": "stream",
     "name": "stdout",
     "text": "[[ 3.+0.j  1.+0.j]\n [ 1.+0.j -1.+0.j]]\n"
    }
   ],
   "source": [
    "toy_hamiltonian = np.array([[3,  1], [1, -1]], dtype=complex)\n",
    "\n",
    "print(toy_hamiltonian)\n",
    "\n",
    "pauliI = np.array([[1,  0], [0,  1]], dtype=complex)\n",
    "pauliX = np.array([[0,  1], [1,  0]], dtype=complex)\n",
    "pauliY = np.array([[0, -1j], [1j,  0]], dtype=complex)\n",
    "pauliZ = np.array([[1,  0], [0, -1]], dtype=complex) \n",
    "pauliMatrices = [[\"I\", pauliI], [\"X\", pauliX], [\"Y\", pauliY],   [\"Z\", pauliZ]]\n",
    "\n",
    "coefficientDict = {}\n",
    "nQubits = 0\n",
    "\n",
    "for pauliMatrix in pauliMatrices:\n",
    "    coefficientDict[f\"{pauliMatrix[0]}\"] = 0.5 * np.trace(np.matmul(pauliMatrix[1], toy_hamiltonian))\n",
    "    if abs(coefficientDict[f\"{pauliMatrix[0]}\"]) > 0 and pauliMatrix[0] != 'I':\n",
    "        nQubits += 1"
   ]
  },
  {
   "cell_type": "code",
   "execution_count": 3,
   "metadata": {},
   "outputs": [],
   "source": [
    "def prepareCircuit(nQubits, coefficientDict, parameters):\n",
    "    theta1, theta2 = parameters\n",
    "    circuit = QuantumCircuit(nQubits, nQubits)\n",
    "\n",
    "    for i in range(nQubits):\n",
    "        # Adding the ansatz to the circuit\n",
    "        circuit.ry(theta1, i)\n",
    "        circuit.rx(theta2, i)\n",
    "\n",
    "    qubitNumber = 0\n",
    "\n",
    "    if abs(coefficientDict['X']) > 0:\n",
    "        circuit.ry(-np.pi / 2, qubitNumber)\n",
    "        qubitNumber += 1\n",
    "\n",
    "    if abs(coefficientDict['Y']) > 0:\n",
    "        circuit.rx(np.pi / 2, qubitNumber)\n",
    "        qubitNumber += 1\n",
    "\n",
    "    circuit.barrier()\n",
    "\n",
    "    for i in range(nQubits):\n",
    "        circuit.measure(i, i)\n",
    "\n",
    "    circuit.draw(output='mpl')\n",
    "    return circuit"
   ]
  },
  {
   "cell_type": "code",
   "execution_count": 4,
   "metadata": {},
   "outputs": [],
   "source": [
    "def vqe(parameters):\n",
    "    # Preparing the circuit\n",
    "    circuit = prepareCircuit(nQubits, coefficientDict, parameters)\n",
    "\n",
    "    # Performing the measurement to get the costs\n",
    "    backend = Aer.get_backend('qasm_simulator')\n",
    "    job = execute(circuit, backend, shots=8192)\n",
    "    result = job.result()\n",
    "    counts = result.get_counts()\n",
    "\n",
    "    # Calculating the energy\n",
    "    energy = 0\n",
    "    index = 0\n",
    "\n",
    "    for coefficient in coefficientDict:\n",
    "        if abs(coefficientDict[coefficient]) > 0:\n",
    "            if coefficient == 'I':\n",
    "                energy += coefficientDict[coefficient]\n",
    "            else:\n",
    "                for count in counts:\n",
    "                    count = count[::-1]\n",
    "                    if count[index] == '0':\n",
    "                        energy += coefficientDict[coefficient] * (counts[count[::-1]] / 8192)\n",
    "                    else:\n",
    "                        energy -= coefficientDict[coefficient] * (counts[count[::-1]] / 8192)\n",
    "                index += 1\n",
    "    return np.real(energy)"
   ]
  },
  {
   "cell_type": "code",
   "execution_count": 5,
   "metadata": {
    "tags": []
   },
   "outputs": [
    {
     "output_type": "stream",
     "name": "stdout",
     "text": "Exact eigenvalue is -1.2360679774997896\nEigenvalue obtained by using VQE algorithm with classical optimisation using Powell's method is -1.249267578125\n"
    }
   ],
   "source": [
    "theta1 = (np.random.rand(1) - 0.5) * 2 * np.pi\n",
    "theta2 = (np.random.rand(1) - 0.5) * 2 * np.pi\n",
    "parameters = np.array([theta1, theta2])\n",
    "tol = 1e-5\n",
    "\n",
    "exacteigenvalues = np.linalg.eigvals(toy_hamiltonian)\n",
    "min_eigenvalue = np.min(exacteigenvalues)\n",
    "\n",
    "print(f'Exact eigenvalue is {np.real(min_eigenvalue)}')\n",
    "\n",
    "result = optimize.minimize(vqe, parameters, method='Powell', tol=tol)\n",
    "\n",
    "print(f\"Eigenvalue obtained by using VQE algorithm with classical optimisation using Powell's method is\", result.fun)"
   ]
  }
 ],
 "metadata": {
  "kernelspec": {
   "name": "python_defaultSpec_1600838446632",
   "display_name": "Python 3.8.5 64-bit ('vqe': venv)"
  }
 },
 "nbformat": 4,
 "nbformat_minor": 4
}