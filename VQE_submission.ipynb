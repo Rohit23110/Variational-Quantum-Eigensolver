{
 "cells": [
  {
   "cell_type": "markdown",
   "metadata": {},
   "source": [
    "# Variational Quantum Eigensolver for 2-qubit system\n",
    "\n",
    "This is an attempt at solving task 4 of the screening tasks i.e. finding the lowest eigenvalue for the given matrix using VQE like circuits.\n",
    "\n",
    "## Introduction\n",
    "Variational Quantum Eigensolver is an algorithm that helps us find an upper bound on the lowest eigen value of a given Hamiltonian. This notebook will not go into much depth on the theoretical aspects of the algorithm such as the variational principle and what a Hamiltonian. This article<sup>[[1]]</sup> by Michał Stęchły and original paper on VQE<sup>[[2]]</sup> do a great job of explaining them. Here, The focus will be on the implementation of the algorithm.  \n",
    "<br>\n",
    "\n",
    "<div align=\"center\">\n",
    "    <img alt=\"Variational Quantum Algorithm\" src=\"./VQE_algorithm.png\"><br>\n",
    "    Variational Quantum Algorithm<sup>[2]</sup>\n",
    "</div>\n",
    "\n",
    "The steps involved in the algorithm can be summarized as follows:  \n",
    "\n",
    "1. Design a parameterized circuit (ansatz) for trial state preparation. Design the quantum modules based on the tensor products of Pauli matrices obtained by decomposing the Hamiltonian.  \n",
    "\n",
    "2. Initialize the parameters of the circuit and prepare a trial state.  \n",
    "\n",
    "3. Pass the trial state to the quantum modules to perform measurements.  \n",
    "\n",
    "4. Calculate the expectation value $\\left\\langle H_{1} \\right\\rangle$ to $\\left\\langle H_{n} \\right\\rangle$ based on the counts of measurements obtained from quantum modules.  \n",
    "\n",
    "5. Add all the expectation values using classical adder to obtain expectation value $\\left\\langle H \\right\\rangle$.  \n",
    "\n",
    "6. Obtain new input parameters based on the expectation value using a classical optimizer.  \n",
    "\n",
    "7. Repeat steps 2 to 7 until the expectation value is optimised. This expectation value is the upper bound on the lowest eigenvalue of the given Hamiltonian.\n",
    "\n",
    "\n",
    "[1]: (https://www.mustythoughts.com/variational-quantum-eigensolver-explained)\n",
    "[2]: (https://arxiv.org/abs/1304.3061)\n"
   ]
  },
  {
   "source": [
    "Before we proceed with the code, let's make sure that all the required dependencies are installed on your system. It is recommended that these dependencies be installed in a virtual environment so that the global ones are not messed up. \n"
   ],
   "cell_type": "markdown",
   "metadata": {}
  },
  {
   "cell_type": "code",
   "execution_count": 1,
   "metadata": {
    "tags": []
   },
   "outputs": [
    {
     "output_type": "stream",
     "name": "stdout",
     "text": "\nRequirement already up-to-date: pybind11==2.5.0 in c:\\users\\rohit pai\\quantum computing\\variational quantum eigensolver\\vqe\\lib\\site-packages (from -r requirements.txt (line 63)) (2.5.0)\nRequirement already up-to-date: pycparser==2.20 in c:\\users\\rohit pai\\quantum computing\\variational quantum eigensolver\\vqe\\lib\\site-packages (from -r requirements.txt (line 64)) (2.20)\nRequirement already up-to-date: Pygments==2.7.1 in c:\\users\\rohit pai\\quantum computing\\variational quantum eigensolver\\vqe\\lib\\site-packages (from -r requirements.txt (line 65)) (2.7.1)\nRequirement already up-to-date: pyparsing==2.4.7 in c:\\users\\rohit pai\\quantum computing\\variational quantum eigensolver\\vqe\\lib\\site-packages (from -r requirements.txt (line 66)) (2.4.7)\nRequirement already up-to-date: pyrsistent==0.16.0 in c:\\users\\rohit pai\\quantum computing\\variational quantum eigensolver\\vqe\\lib\\site-packages (from -r requirements.txt (line 67)) (0.16.0)\nRequirement already up-to-date: python-constraint==1.4.0 in c:\\users\\rohit pai\\quantum computing\\variational quantum eigensolver\\vqe\\lib\\site-packages (from -r requirements.txt (line 68)) (1.4.0)\nRequirement already up-to-date: python-dateutil==2.8.1 in c:\\users\\rohit pai\\quantum computing\\variational quantum eigensolver\\vqe\\lib\\site-packages (from -r requirements.txt (line 69)) (2.8.1)\nRequirement already up-to-date: pytz==2020.1 in c:\\users\\rohit pai\\quantum computing\\variational quantum eigensolver\\vqe\\lib\\site-packages (from -r requirements.txt (line 70)) (2020.1)\nRequirement already up-to-date: pywin32==228 in c:\\users\\rohit pai\\quantum computing\\variational quantum eigensolver\\vqe\\lib\\site-packages (from -r requirements.txt (line 71)) (228)\nRequirement already up-to-date: pywinpty==0.5.7 in c:\\users\\rohit pai\\quantum computing\\variational quantum eigensolver\\vqe\\lib\\site-packages (from -r requirements.txt (line 72)) (0.5.7)\nRequirement already up-to-date: pyzmq==19.0.2 in c:\\users\\rohit pai\\quantum computing\\variational quantum eigensolver\\vqe\\lib\\site-packages (from -r requirements.txt (line 73)) (19.0.2)\nRequirement already up-to-date: qiskit==0.19.6 in c:\\users\\rohit pai\\quantum computing\\variational quantum eigensolver\\vqe\\lib\\site-packages (from -r requirements.txt (line 74)) (0.19.6)\nRequirement already up-to-date: qiskit-aer==0.5.2 in c:\\users\\rohit pai\\quantum computing\\variational quantum eigensolver\\vqe\\lib\\site-packages (from -r requirements.txt (line 75)) (0.5.2)\nRequirement already up-to-date: qiskit-aqua==0.7.3 in c:\\users\\rohit pai\\quantum computing\\variational quantum eigensolver\\vqe\\lib\\site-packages (from -r requirements.txt (line 76)) (0.7.3)\nRequirement already up-to-date: qiskit-ibmq-provider==0.7.2 in c:\\users\\rohit pai\\quantum computing\\variational quantum eigensolver\\vqe\\lib\\site-packages (from -r requirements.txt (line 77)) (0.7.2)\nRequirement already up-to-date: qiskit-ignis==0.3.3 in c:\\users\\rohit pai\\quantum computing\\variational quantum eigensolver\\vqe\\lib\\site-packages (from -r requirements.txt (line 78)) (0.3.3)\nRequirement already up-to-date: qiskit-terra==0.14.2 in c:\\users\\rohit pai\\quantum computing\\variational quantum eigensolver\\vqe\\lib\\site-packages (from -r requirements.txt (line 79)) (0.14.2)\nRequirement already up-to-date: qtconsole==4.7.7 in c:\\users\\rohit pai\\quantum computing\\variational quantum eigensolver\\vqe\\lib\\site-packages (from -r requirements.txt (line 80)) (4.7.7)\nRequirement already up-to-date: QtPy==1.9.0 in c:\\users\\rohit pai\\quantum computing\\variational quantum eigensolver\\vqe\\lib\\site-packages (from -r requirements.txt (line 81)) (1.9.0)\nRequirement already up-to-date: Quandl==3.5.2 in c:\\users\\rohit pai\\quantum computing\\variational quantum eigensolver\\vqe\\lib\\site-packages (from -r requirements.txt (line 82)) (3.5.2)\nRequirement already up-to-date: requests==2.24.0 in c:\\users\\rohit pai\\quantum computing\\variational quantum eigensolver\\vqe\\lib\\site-packages (from -r requirements.txt (line 83)) (2.24.0)\nRequirement already up-to-date: requests-ntlm==1.1.0 in c:\\users\\rohit pai\\quantum computing\\variational quantum eigensolver\\vqe\\lib\\site-packages (from -r requirements.txt (line 84)) (1.1.0)\nRequirement already up-to-date: retworkx==0.4.0 in c:\\users\\rohit pai\\quantum computing\\variational quantum eigensolver\\vqe\\lib\\site-packages (from -r requirements.txt (line 85)) (0.4.0)\nRequirement already up-to-date: scikit-learn==0.23.2 in c:\\users\\rohit pai\\quantum computing\\variational quantum eigensolver\\vqe\\lib\\site-packages (from -r requirements.txt (line 86)) (0.23.2)\nRequirement already up-to-date: scipy==1.5.2 in c:\\users\\rohit pai\\quantum computing\\variational quantum eigensolver\\vqe\\lib\\site-packages (from -r requirements.txt (line 87)) (1.5.2)\nRequirement already up-to-date: Send2Trash==1.5.0 in c:\\users\\rohit pai\\quantum computing\\variational quantum eigensolver\\vqe\\lib\\site-packages (from -r requirements.txt (line 88)) (1.5.0)\nRequirement already up-to-date: six==1.15.0 in c:\\users\\rohit pai\\quantum computing\\variational quantum eigensolver\\vqe\\lib\\site-packages (from -r requirements.txt (line 89)) (1.15.0)\nRequirement already up-to-date: sympy==1.6.2 in c:\\users\\rohit pai\\quantum computing\\variational quantum eigensolver\\vqe\\lib\\site-packages (from -r requirements.txt (line 90)) (1.6.2)\nRequirement already up-to-date: terminado==0.9.0 in c:\\users\\rohit pai\\quantum computing\\variational quantum eigensolver\\vqe\\lib\\site-packages (from -r requirements.txt (line 91)) (0.9.0)\nRequirement already up-to-date: testpath==0.4.4 in c:\\users\\rohit pai\\quantum computing\\variational quantum eigensolver\\vqe\\lib\\site-packages (from -r requirements.txt (line 92)) (0.4.4)\nRequirement already up-to-date: threadpoolctl==2.1.0 in c:\\users\\rohit pai\\quantum computing\\variational quantum eigensolver\\vqe\\lib\\site-packages (from -r requirements.txt (line 93)) (2.1.0)\nRequirement already up-to-date: tornado==6.0.4 in c:\\users\\rohit pai\\quantum computing\\variational quantum eigensolver\\vqe\\lib\\site-packages (from -r requirements.txt (line 94)) (6.0.4)\nRequirement already up-to-date: traitlets==5.0.4 in c:\\users\\rohit pai\\quantum computing\\variational quantum eigensolver\\vqe\\lib\\site-packages (from -r requirements.txt (line 95)) (5.0.4)\nRequirement already up-to-date: urllib3==1.25.10 in c:\\users\\rohit pai\\quantum computing\\variational quantum eigensolver\\vqe\\lib\\site-packages (from -r requirements.txt (line 96)) (1.25.10)\nRequirement already up-to-date: wcwidth==0.2.5 in c:\\users\\rohit pai\\quantum computing\\variational quantum eigensolver\\vqe\\lib\\site-packages (from -r requirements.txt (line 97)) (0.2.5)\nRequirement already up-to-date: webencodings==0.5.1 in c:\\users\\rohit pai\\quantum computing\\variational quantum eigensolver\\vqe\\lib\\site-packages (from -r requirements.txt (line 98)) (0.5.1)\nRequirement already up-to-date: websockets==7.0 in c:\\users\\rohit pai\\quantum computing\\variational quantum eigensolver\\vqe\\lib\\site-packages (from -r requirements.txt (line 99)) (7.0)\nRequirement already up-to-date: widgetsnbextension==3.5.1 in c:\\users\\rohit pai\\quantum computing\\variational quantum eigensolver\\vqe\\lib\\site-packages (from -r requirements.txt (line 100)) (3.5.1)\nRequirement already satisfied, skipping upgrade: setuptools>=18.5 in c:\\users\\rohit pai\\quantum computing\\variational quantum eigensolver\\vqe\\lib\\site-packages (from ipython==7.18.1->-r requirements.txt (line 25)) (49.6.0)\n"
    }
   ],
   "source": [
    "!pip install -U -r requirements.txt\n",
    "\n",
    "from IPython.display import clear_output\n",
    "clear_output()"
   ]
  },
  {
   "cell_type": "code",
   "execution_count": 2,
   "metadata": {
    "tags": []
   },
   "outputs": [],
   "source": [
    "''' Importing the required modules and defining global constants '''\n",
    "import numpy as np\n",
    "pi = np.pi\n",
    "from qiskit import *\n",
    "from scipy import optimize"
   ]
  },
  {
   "source": [
    "## Decomposing given Hamiltonian into Pauli products\n",
    "\n",
    "The first step in the algorithm requires us to decompose the given Hamiltonian matrix into a linear combination of Pauli matrices and tensor products of Pauli matrices (henceforth called \"Pauli product\"). This is done as a quantum computer can efficiently evaluate the expectation value of Pauli products<sup>[[2]]</sup>.\n",
    "\n",
    "After digging around the internet,  these resources<sup>[[3]][[4]][[5]]</sup> were found that leverage the properties of Pauli matrices, Hermitian matrices and the Hilbert-Schmidt inner product to calculate the coefficients of the decomposition. If we represent the decomposed 4 x 4 Hamiltonian matrix H as\n",
    "\n",
    "$$H = \\ \\sum_{i,j = I,X,Y,Z}^{}{a_{\\text{ij}}\\left( \\sigma_{i} \\otimes \\sigma_{j} \\right)}$$\n",
    "\n",
    "then we can use the relation\n",
    "\n",
    "$$a_{\\text{ij}} = \\frac{1}{4}tr(\\left( \\sigma_{i} \\otimes \\sigma_{j} \\right)H)\\ where\\ i,\\ j = I,\\ X,\\ Y,\\ Z$$\n",
    "\n",
    "to calculate the coefficient of each Pauli product.\n",
    "\n",
    "[2]: https://arxiv.org/abs/1304.3061\n",
    "[3]: https://quantumcomputing.stackexchange.com/questions/11899/example-of-hamiltonian-decomposition-into-pauli-matrices\n",
    "[4]: https://quantumcomputing.stackexchange.com/questions/8725/can-arbitrary-matrices-be-decomposed-using-the-pauli-basis\n",
    "[5]: https://quantumcomputing.stackexchange.com/questions/6882/decomposition-of-a-matrix-in-the-pauli-basis\n"
   ],
   "cell_type": "markdown",
   "metadata": {}
  },
  {
   "cell_type": "code",
   "execution_count": 3,
   "metadata": {
    "tags": []
   },
   "outputs": [],
   "source": [
    "def decompose_matrix(matrix):\n",
    "    \"\"\" \n",
    "    This function uses the formula describe above to calculate the coefficient of each Pauli product. \n",
    "  \n",
    "    It essentially decomposes the 4 x 4 hamiltonian matrix into a linear combination of Pauli products.  \n",
    "  \n",
    "    Parameters: \n",
    "    matrix (np.array): A 4 x 4 hamiltonian matrix\n",
    "  \n",
    "    Returns: \n",
    "    dict: Dictionary of coefficients of each Pauli product\n",
    "    \"\"\"\n",
    "\n",
    "    pauli_I = np.array([[1,  0], \n",
    "                        [0,  1]], dtype=complex)\n",
    "    pauli_X = np.array([[0,  1], \n",
    "                        [1,  0]], dtype=complex)\n",
    "    pauli_Y = np.array([[0, -1j], \n",
    "                        [1j,  0]], dtype=complex)\n",
    "    pauli_Z = np.array([[1,  0], \n",
    "                        [0, -1]], dtype=complex) \n",
    "    pauli_matrices = [[\"I\", pauli_I], [\"X\", pauli_X], [\"Y\", pauli_Y], [\"Z\", pauli_Z]]\n",
    "\n",
    "    coefficient_dict = {}\n",
    "\n",
    "    for pauli_matrix_1 in pauli_matrices:\n",
    "        for pauli_matrix_2 in pauli_matrices:\n",
    "            tensor_product = np.kron(pauli_matrix_1[1], pauli_matrix_2[1])\n",
    "            coefficient_dict[f\"{pauli_matrix_1[0]}{pauli_matrix_2[0]}\"] = 0.25 * np.trace(np.matmul(tensor_product, given_matrix))\n",
    "\n",
    "    return coefficient_dict"
   ]
  },
  {
   "cell_type": "code",
   "execution_count": 4,
   "metadata": {
    "tags": []
   },
   "outputs": [
    {
     "output_type": "stream",
     "name": "stdout",
     "text": "Coefficient of each tensor product in the decomposition of given matrix: \n\n {'II': (0.5+0j), 'IX': 0j, 'IY': 0j, 'IZ': 0j, 'XI': 0j, 'XX': (-0.5+0j), 'XY': 0j, 'XZ': 0j, 'YI': 0j, 'YX': 0j, 'YY': (-0.5+0j), 'YZ': 0j, 'ZI': 0j, 'ZX': 0j, 'ZY': 0j, 'ZZ': (0.5+0j)}\n"
    }
   ],
   "source": [
    "given_matrix = np.array([[1,  0,  0,  0], \n",
    "                         [0,  0, -1,  0],\n",
    "                         [0, -1,  0,  0],\n",
    "                         [0,  0,  0,  1]], dtype=np.float64)\n",
    "print(\"Coefficient of each tensor product in the decomposition of given matrix: \\n\\n\", decompose_matrix(given_matrix))"
   ]
  },
  {
   "source": [
    "It is seen from the above output that the given matrix is decomposed into a linear combination of $\\sigma_{I} \\otimes \\sigma_{I}$, $\\sigma_{X} \\otimes \\sigma_{X}$, $\\sigma_{Y} \\otimes \\sigma_{Y}$ and $\\sigma_{Z} \\otimes \\sigma_{Z}$ i.e.\n",
    "\n",
    "$$H = \\frac{1}{2}\\left( \\sigma_{I} \\otimes \\sigma_{I} \\right) - \\frac{1}{2}\\ \\left( \\sigma_{X} \\otimes \\sigma_{X} \\right) - \\frac{1}{2}{(\\sigma}_{Y} \\otimes \\sigma_{Y}) + \\frac{1}{2}\\left( \\sigma_{Z} \\otimes \\sigma_{Z} \\right)$$"
   ],
   "cell_type": "markdown",
   "metadata": {}
  },
  {
   "source": [
    "## Creating Trial States using Parametrized Ansatz\n",
    "\n",
    "The next step is to design the circuit for trial state preparation. The goal is to create a state that is exactly the eigen state or very close to it. We could do this by iterating over all possible states in the Hilbert Space until we find the correct one but this would be computationally intensive. We need a better way to do so. \n",
    "\n",
    "An ansatz, in general sense, is an educated guess or an additional assumption made to help solve a problem, and which is later verified to be part of the solution by its results<sup>[[6]]</sup>. In this case, an ansatz is a set of parametrized gates that gives us access to a portion of the Hilbert space. Since it is parameterized, the parameters can be varied iteratively to access the set of states represented by it. Choosing a good ansatz is key as it should represent a sufficient part of the Hilbert space and be shallow (to be less computationally intensive) and should not have too many parameters (optimizing it would become difficult)<sup>[[1]]</sup>. \n",
    "\n",
    "After experimenting with different ansatze, it was found that the ansatz in the hint i.e. ${RX(\\theta)}_{1}{(CX)H}_{1}$ was the best ansatz for the given hamiltonian as it contains the eigenvector, corresponding to the lowest eigenvalue, as a state in its subspace. \n",
    "\n",
    "[6]: https://en.wikipedia.org/wiki/Ansatz\n",
    "[1]: https://www.mustythoughts.com/variational-quantum-eigensolver-explained\n"
   ],
   "cell_type": "markdown",
   "metadata": {}
  },
  {
   "cell_type": "code",
   "execution_count": 5,
   "metadata": {
    "tags": []
   },
   "outputs": [],
   "source": [
    "def create_trial_state_circuit(parameters):\n",
    "    \"\"\" \n",
    "    Creates a parameterized circuit (ansatz) that prepares the trial state based \n",
    "    on the parameters received as input.\n",
    "  \n",
    "    Parameters: \n",
    "    parameters (np.array): List of angles that act as parameters for the circuit\n",
    "  \n",
    "    Returns: \n",
    "    QuantumCircuit(2, 2): Quantum circuit that prepares the trial state\n",
    "    \"\"\"\n",
    "    trial_state_circuit = QuantumCircuit(2, 2)\n",
    "\n",
    "    trial_state_circuit.h(0)\n",
    "    trial_state_circuit.cx(0,1)\n",
    "    trial_state_circuit.rx(parameters[0], 0)\n",
    "            \n",
    "    trial_state_circuit.barrier()\n",
    "    return trial_state_circuit"
   ]
  },
  {
   "source": [
    "## Creating quantum modules to perform measurements\n",
    "\n",
    "It is impossible to know the exact state of a qubit as any external interaction collapses the qubit into one of the basis states. Sp, to get an approximate idea of what the trial state would have been, the same circuit is repeatedly prepared and measurements are performed measurements to get the counts of each output state. These can be used to calculate the probability of each output state and which can in turn be used to calculate the expectation value.\n",
    "\n",
    "The problem that arises here is that separate circuits (i.e. quantum modules) are needed for each Pauli Product. The reason being that to calculate the expectation value for $\\sigma_{X}$ and $\\sigma_{y}$, measurements have to be performed and counts have to be obtained in the X and Y basis respectively. Since we cannot directly measure in an arbitrary basis, transformations have to be performed on the trial state to convert it into Z basis (i.e. the $\\left| 0 \\right\\rangle\\ and\\ |1\\rangle$ basis). For $\\sigma_{X}$, a Hadamard (or $H$) gate is applied and for $\\sigma_{y}$, $S^{\\dagger}$ followed by $H$ gate are applied for the transformation.\n",
    "\n",
    "$$S^{\\dagger} = \\ \\begin{bmatrix} 1 & 0 \\\\ 0 & - i \\\\ \\end{bmatrix}\\ \\ \\ \\ \\ \\ \\ \\ \\ \\ H = \\frac{1}{\\sqrt{2}}\\begin{bmatrix} 1 & 1 \\\\ 1 & - 1 \\\\ \\end{bmatrix}$$\n",
    "\n",
    "For $\\sigma_{Z}$, there is no need for a transformation as its expectation value requires counts in the Z basis. For $\\sigma_{I}$, there is no need to create a circuit as its expectation value is always 1. \n",
    "\n",
    "For a 2-qubit system, the expectation value for tensor products has to be calculated. This can be done by doing these transformations on individual qubits according to the Pauli matrix and then doing a measurement. E.g. For calculating the expectation value of the $\\sigma_{X} \\otimes \\sigma_{Y}$, a $H$ gate is applied on the first qubit and a $S^{\\dagger}$ followed by $H$ gate are applied on the second qubit and measurements are performed. "
   ],
   "cell_type": "markdown",
   "metadata": {}
  },
  {
   "cell_type": "code",
   "execution_count": 6,
   "metadata": {},
   "outputs": [],
   "source": [
    "def quantum_module_simulator(trial_state_circuit, pauli_product, number_of_shots):\n",
    "    \"\"\" \n",
    "    This is a generalized function that adds transformations and performs measurements on the trial\n",
    "    state based on the pauli matrices. The measurements are performed repeatedly to obtain counts of \n",
    "    each output state. The measurements are performed on an ideal simulator.\n",
    "  \n",
    "    Parameters: \n",
    "    trial_state_circuit (QuantumCircuit): Circuit that prepares the trial state\n",
    "    pauli_product (str): String representation of tensor product of pauli matrices\n",
    "    number_of_shots (int): Number of times measurements should be performed on the trial state\n",
    "    \n",
    "    Returns: \n",
    "    counts (dict): Dictionary of counts of each output state\n",
    "    \"\"\"\n",
    "\n",
    "    measurement_circuit = trial_state_circuit.copy()\n",
    "\n",
    "    qubit = 0\n",
    "    cbit = 0\n",
    "\n",
    "    for pauli_matrix in pauli_product:\n",
    "        if pauli_matrix == 'X':\n",
    "            measurement_circuit.h(qubit)\n",
    "        elif pauli_matrix == 'Y':\n",
    "            measurement_circuit.sdg(qubit)\n",
    "            measurement_circuit.h(qubit)\n",
    "        elif pauli_matrix != 'I' and pauli_matrix != 'Z':\n",
    "            raise ValueError(\"Pauli product should consist only of I, X, Y or Z matrices\")\n",
    "        measurement_circuit.measure(qubit, cbit)\n",
    "        qubit += 1\n",
    "        cbit += 1\n",
    "\n",
    "    backend = Aer.get_backend('qasm_simulator')\n",
    "    job = execute(measurement_circuit, backend, shots = number_of_shots)\n",
    "    result = job.result()\n",
    "    counts = result.get_counts()\n",
    "\n",
    "    return counts"
   ]
  },
  {
   "source": [
    "## Calculating expectation values on the basis of counts\n",
    "\n",
    "The quantum modules give us a set of counts for each basis state i.e.$\\ \\left| 00 \\right\\rangle,\\ \\left| 01 \\right\\rangle,$$\\ \\left| 10 \\right\\rangle\\ and\\ |11\\rangle$. The probability of each state is calculated by dividing the count of each state by the total number of counts.\n",
    "\n",
    "The expectation value is the sum of product of probabilities of each state and their associated eigen value. As we know, the eigen value of state $\\left| 0 \\right\\rangle,\\left| + \\right\\rangle$, and $\\left| i \\right\\rangle$ is $+ 1$ and of state $\\left| 1 \\right\\rangle,\\left| - \\right\\rangle$, and $\\left| - i \\right\\rangle$ is $- 1$. The eigen value of tensor products of these states would then be a product of their individual eigen values. Since every state has been transformed into the Z basis, the eigenvalues of only 4 states need to tbe considered. It comes out to be $+ 1$ for $|00\\rangle$ and $|11\\rangle$ and $- 1\\ $for $|01\\rangle$ and $|10\\rangle$.\n",
    "\n",
    "The formula used for the calculation depends on the Pauli product used but can be generalised to three cases:\n",
    "\n",
    "1.  When the Pauli product is $\\sigma_{I} \\otimes \\sigma_{X}$, $\\sigma_{I} \\otimes \\sigma_{Y}$ or $\\sigma_{I} \\otimes \\sigma_{Z}$:\n",
    "\n",
    "The expectation value in these cases depends only on the second qubit as the first Pauli matrix is $I$. There is no need to create a totally new circuit in these cases and the probabilities obtained from the quantum modules can be used. The eigenvalue of the state is considered as the eigenvalue of state of qubit 2 i.e. states having 1 on the second qubit have $- 1$ and for the states having on the first qubit have $+ 1$. Hence, the expectation value for this case is:\n",
    "\n",
    "$$\\left\\langle \\sigma_{I} \\otimes \\sigma_{i} \\right\\rangle\\  = P_{00}\\left( + 1 \\right) + P_{01}\\left( - 1 \\right) + P_{10}\\left( + 1 \\right) + P_{11}( - 1)\\ where\\ i = X,\\ Y\\ and\\ Z\\ $$\n",
    "\n",
    "2.  When the Pauli product is $\\sigma_{X} \\otimes \\sigma_{I}$, $\\sigma_{Y} \\otimes \\sigma_{I}$ or $\\sigma_{Z} \\otimes \\sigma_{I}$:\n",
    "\n",
    "Similar to the above case, the expectation value would depend only on the first qubit as the second Pauli matrix is $I$. Similar to the above case, the eigenvalue for states having 1 on the first qubit is considered as $- 1$ and for the states having 0 on the first qubit is considered as $+ 1$. Therefore, the expectation value for this case is:\n",
    "\n",
    "$$\\left\\langle \\sigma_{i} \\otimes \\sigma_{I} \\right\\rangle\\  = P_{00}\\left( + 1 \\right) + P_{01}\\left( + 1 \\right) + P_{10}\\left( - 1 \\right) + P_{11}( - 1)\\ where\\ i = X,\\ Y\\ and\\ Z\\ $$\n",
    "\n",
    "3.  When the Pauli product is of the form $\\sigma_{i} \\otimes \\sigma_{j}$ where $i,\\ j = X,\\ Y\\ and\\ Z$:\n",
    "\n",
    "In this case, the eigen value of the entire state is considered. The eigen value of the 4 states was defined initially and is used here. Therefore, the expectation value for this case is:\n",
    "\n",
    "$$\\left\\langle \\sigma_{i} \\otimes \\sigma_{j} \\right\\rangle\\  = P_{00}\\left( + 1 \\right) + P_{01}\\left( - 1 \\right) + P_{10}\\left( - 1 \\right) + P_{11}\\left( + 1 \\right)\\ where\\ i,j = X,\\ Y,\\ Z$$\n",
    "\n",
    "This tutorial<sup>[[7]](https://github.com/DavitKhach/quantum-algorithms-tutorials/blob/master/variational_quantum_eigensolver.ipynb)</sup> by David Khachatryan goes into much depth on the significance of adding extra gates before measurement and calculating expectation values and can be referred for further details."
   ],
   "cell_type": "markdown",
   "metadata": {}
  },
  {
   "cell_type": "code",
   "execution_count": 7,
   "metadata": {},
   "outputs": [],
   "source": [
    "def calculate_expectation_value(counts, pauli_product):\n",
    "    \"\"\" \n",
    "    Calculates the expectation value of the Pauli product based on the counts of each state and the formula defined above\n",
    "  \n",
    "    Parameters: \n",
    "    counts (dict): Dictionary of counts of each output state\n",
    "    pauli_product (str): String representation of tensor product of pauli matrices\n",
    "    \n",
    "    Returns: \n",
    "    expectation_value (int): Expectation value of the Pauli product based on the counts \n",
    "    \"\"\"\n",
    "\n",
    "    if pauli_product == 'II':\n",
    "        return 1\n",
    "    \n",
    "    if '00' not in counts:\n",
    "        counts['00'] = 0\n",
    "    if '01' not in counts:\n",
    "        counts['01'] = 0\n",
    "    if '10' not in counts:\n",
    "        counts['10'] = 0\n",
    "    if '11' not in counts:\n",
    "        counts['11'] = 0\n",
    "\n",
    "    total_count = counts['00'] + counts['01'] + counts['10'] + counts['11']\n",
    "\n",
    "\n",
    "    # The formulae vary slightly from above as Qiskit has reverse ordering of qubits (little-endian)\n",
    "    # i.e. qubit 1 is qubit 2 and qubit 2 is qubit 1\n",
    "\n",
    "    if pauli_product == 'IX' or pauli_product == 'IY' or pauli_product == 'IZ': \n",
    "        expectation_value = (counts['00'] + counts['01'] - counts['10'] - counts['11']) / total_count\n",
    "    elif pauli_product == 'XI' or pauli_product == 'YI' or pauli_product == 'ZI':\n",
    "        expectation_value = (counts['00'] - counts['01'] + counts['10'] - counts['11']) / total_count\n",
    "    else:\n",
    "        expectation_value = (counts['00'] - counts['01'] - counts['10'] + counts['11']) / total_count\n",
    "\n",
    "    return expectation_value"
   ]
  },
  {
   "source": [
    "## Combining everything to calculate the expectation value\n",
    "\n",
    "All the parts needed to calculate the expectation value of the given Hamiltonian are defined above. We use the coefficients of pauli products (obtained by decomposing the matrix) and set of parameters for the ansatz to call the respective functions and calculate expectation values for each Pauli product. These expectation values are multiplied with their respective coefficients and added to give the expectation value of the given Hamiltonian with respect to the current trial state."
   ],
   "cell_type": "markdown",
   "metadata": {}
  },
  {
   "source": [
    "def calculate_expectation_value_of_hamiltonian(parameters, coefficient_dict):\n",
    "    \"\"\" \n",
    "    Calculates the expectation value of the hamiltonian using the parameters for trial state circuit\n",
    "    and coefficients of pauli products\n",
    "  \n",
    "    Parameters: \n",
    "    parameters (np.array): List of angles that act as parameters for the trial state circuit \n",
    "    coefficient_dict (dict): Coeffiecients of pauli products obtained by decomposing the hamiltonian\n",
    "    \n",
    "    Returns: \n",
    "    expectation_value_of_hamiltonian (float): Expectation value of the hamiltonian\n",
    "    \"\"\"\n",
    "\n",
    "    trial_state_circuit = create_trial_state_circuit(parameters)\n",
    "\n",
    "    expectation_value = 0\n",
    "\n",
    "    for pauli_product in coefficient_dict:\n",
    "        if abs(coefficient_dict[pauli_product]) > 0:\n",
    "            counts = quantum_module_simulator(trial_state_circuit, pauli_product, 8192)\n",
    "            expectation_value += np.real(coefficient_dict[pauli_product]) * calculate_expectation_value(counts, pauli_product)\n",
    "    \n",
    "    return expectation_value            "
   ],
   "cell_type": "code",
   "metadata": {},
   "execution_count": 8,
   "outputs": []
  },
  {
   "source": [
    "## Optimizing the expectation value of the Hamiltonian\n",
    "\n",
    "Using the above methods, the expectation value with respect to the current trial state is obtained. It needs to be optimised as it may not be the lowest upper bound on the eigen value. Classical optimisation methods such as gradient descent or Nelder-Mead Simplex method can be used to optimize the above function and obtain the lowest possible value. In this notebook, Powell's method is used for optimization. I have also shown the lowest eigen value that is calculated using classical methods for comparison.\n"
   ],
   "cell_type": "markdown",
   "metadata": {}
  },
  {
   "cell_type": "code",
   "execution_count": 9,
   "metadata": {
    "tags": []
   },
   "outputs": [
    {
     "output_type": "stream",
     "name": "stdout",
     "text": "Classically calculated eigenvalues of given hamiltonian are:  [ 1. -1.  1.  1.]\nLowest eigenvalue calculated using classical methods:  -1.0\nUpper bound on lowest eigenvalue calculated using VQE:  -1.0\n"
    }
   ],
   "source": [
    "given_matrix = np.array([[1,  0,  0,  0], \n",
    "                         [0,  0, -1,  0],\n",
    "                         [0, -1,  0,  0],\n",
    "                         [0,  0,  0,  1]], dtype=np.float64) \n",
    "coefficient_dict = decompose_matrix(given_matrix)\n",
    "\n",
    "theta1 = 0\n",
    "parameters = [theta1]\n",
    "tolerance = 1e-5\n",
    "\n",
    "''' Running classical algorithm on the given matrix to find exact value '''\n",
    "eigenvalues = np.linalg.eigvals(given_matrix)\n",
    "lowest_eigenvalue = np.min(eigenvalues)\n",
    "\n",
    "print(\"Classically calculated eigenvalues of given hamiltonian are: \", eigenvalues)\n",
    "print(\"Lowest eigenvalue calculated using classical methods: \", lowest_eigenvalue)\n",
    "\n",
    "result = optimize.minimize(fun=calculate_expectation_value_of_hamiltonian, x0=parameters, \n",
    "                           args=(coefficient_dict), method='Powell', tol=tolerance)\n",
    "print(\"Upper bound on lowest eigenvalue calculated using VQE: \", result.fun)"
   ]
  },
  {
   "source": [
    "## Conclusion\n",
    "\n",
    "As it is seen above, the VQE algorithm is able to return the exact lowest eigenvalue for the given Hamiltonian for the selected ansatz (the classical method may give a small error which can be neglected). While writing the code, it was observed that varying the ansatz gives varying degrees of success and choosing the correct ansatz for a problem is an art. \n",
    "\n",
    "Secondly, the above measurements are done on a noiseless simulator so the output that VQE gives is very close to the exact eigenvalue, provided the correct ansatz is chosen. Executing the same code on a noisy IBM quantum computer led to errors of the magnitude 10<sup>-1</sup>, which is quite far from the exact eigen value. The circuit can be transpiled and optimised to perform better on real hardware and react better to noise."
   ],
   "cell_type": "markdown",
   "metadata": {}
  },
  {
   "source": [
    "## References  \n",
    "\n",
    "1. https://www.mustythoughts.com/variational-quantum-eigensolver-explained  \n",
    "2. https://arxiv.org/abs/1304.3061\n",
    "3. https://quantumcomputing.stackexchange.com/questions/11899/example-of-hamiltonian-decomposition-into-pauli-matrices\n",
    "4. https://quantumcomputing.stackexchange.com/questions/8725/can-arbitrary-matrices-be-decomposed-using-the-pauli-basis\n",
    "5. https://quantumcomputing.stackexchange.com/questions/6882/decomposition-of-a-matrix-in-the-pauli-basis\n",
    "6. https://en.wikipedia.org/wiki/Ansatz\n",
    "7. https://github.com/DavitKhach/quantum-algorithms-tutorials/blob/master/variational_quantum_eigensolver.ipynb\n",
    "\n",
    "## Additional Resources used for studying Variational Quantum Eigensolver\n",
    "\n",
    "1. [Introduction to Quantum Computing and Quantum Hardware - Lecture 25 to 27](https://qiskit.org/learn/intro-qc-qh/)\n",
    "2. [Framework agnostic VQE tutorial by Alexander Soare](https://github.com/alexander-soare/framework-agnostic-vqe-tutorial)\n",
    "3. Sim, Sukin, Peter D. Johnson, and Alán Aspuru‐Guzik. “Expressibility and Entangling Capability of Parameterized Quantum Circuits for Hybrid Quantum‐Classical Algorithms.” Advanced Quantum Technologies 2.12 (2019): 1900070. Crossref. Web.\n"
   ],
   "cell_type": "markdown",
   "metadata": {}
  }
 ],
 "metadata": {
  "kernelspec": {
   "name": "python_defaultSpec_1600838413221",
   "display_name": "Python 3.8.5 64-bit ('vqe': venv)"
  }
 },
 "nbformat": 4,
 "nbformat_minor": 4
}